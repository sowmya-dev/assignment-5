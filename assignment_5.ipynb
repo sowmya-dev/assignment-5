{
  "nbformat": 4,
  "nbformat_minor": 0,
  "metadata": {
    "colab": {
      "name": "assignment 5.ipynb",
      "provenance": []
    },
    "kernelspec": {
      "name": "python3",
      "display_name": "Python 3"
    }
  },
  "cells": [
    {
      "cell_type": "code",
      "metadata": {
        "id": "26BpoVm9MKvV"
      },
      "source": [
        "def div(a,b):\n",
        "  try:\n",
        "     return a/b\n",
        "  except:\n",
        "    print(\"ZeroDivisionError\")\n",
        "\n"
      ],
      "execution_count": 2,
      "outputs": []
    },
    {
      "cell_type": "code",
      "metadata": {
        "colab": {
          "base_uri": "https://localhost:8080/"
        },
        "id": "uzjEiyALNG4q",
        "outputId": "240e9f03-7d40-4f68-fc2c-3c044104b31c"
      },
      "source": [
        "div(4,2)"
      ],
      "execution_count": 3,
      "outputs": [
        {
          "output_type": "execute_result",
          "data": {
            "text/plain": [
              "2.0"
            ]
          },
          "metadata": {
            "tags": []
          },
          "execution_count": 3
        }
      ]
    },
    {
      "cell_type": "code",
      "metadata": {
        "colab": {
          "base_uri": "https://localhost:8080/"
        },
        "id": "twwhmyjfNOp2",
        "outputId": "dbc09fee-f7d1-4128-b0b0-1c8edda0d544"
      },
      "source": [
        "div(5,0)"
      ],
      "execution_count": 4,
      "outputs": [
        {
          "output_type": "stream",
          "text": [
            "ZeroDivisionError\n"
          ],
          "name": "stdout"
        }
      ]
    },
    {
      "cell_type": "code",
      "metadata": {
        "id": "R7qBvXelNP-A"
      },
      "source": [
        "subjects=[\"Americans \",\"Indians\"]\n",
        "verbs=[\"play\",\"watch\"]\n",
        "objects=[\"Baseball\",\"Cricket\"]"
      ],
      "execution_count": 5,
      "outputs": []
    },
    {
      "cell_type": "code",
      "metadata": {
        "colab": {
          "base_uri": "https://localhost:8080/"
        },
        "id": "8F6AIltlOPyo",
        "outputId": "2ffd377f-a7b8-48e8-eaca-6ca1a63831f1"
      },
      "source": [
        "for  i in subjects:\n",
        "  for j in verbs:\n",
        "    for k in objects:\n",
        "      print(i +\" \"+ j +\" \"+ k)"
      ],
      "execution_count": 10,
      "outputs": [
        {
          "output_type": "stream",
          "text": [
            "Americans  play Baseball\n",
            "Americans  play Cricket\n",
            "Americans  watch Baseball\n",
            "Americans  watch Cricket\n",
            "Indians play Baseball\n",
            "Indians play Cricket\n",
            "Indians watch Baseball\n",
            "Indians watch Cricket\n"
          ],
          "name": "stdout"
        }
      ]
    },
    {
      "cell_type": "code",
      "metadata": {
        "id": "Dc86UMPLOv_I"
      },
      "source": [
        ""
      ],
      "execution_count": null,
      "outputs": []
    }
  ]
}